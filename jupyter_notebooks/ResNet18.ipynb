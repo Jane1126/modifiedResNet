{
 "cells": [
  {
   "cell_type": "code",
   "execution_count": 1,
   "metadata": {
    "id": "PKZfkfy4W8W3"
   },
   "outputs": [],
   "source": [
    "import torch\n",
    "import torch.nn as nn\n",
    "import torch.optim as optim\n",
    "import torchvision.datasets as datasets\n",
    "import torchvision.transforms as transforms\n",
    "import torch.nn.functional as F\n",
    "from torchsummary import summary\n",
    "import matplotlib.pyplot as plt\n",
    "from sklearn.metrics import confusion_matrix\n",
    "from sklearn import decomposition\n",
    "from sklearn import manifold\n",
    "from sklearn.metrics import ConfusionMatrixDisplay\n",
    "import numpy as np\n",
    "from tqdm import tqdm\n",
    "import random\n",
    "from torch.optim.lr_scheduler import CyclicLR"
   ]
  },
  {
   "cell_type": "code",
   "execution_count": 2,
   "metadata": {
    "id": "WfsiRO_kjnR2"
   },
   "outputs": [],
   "source": [
    "# Setting a Random Seed for reproducibility\n",
    "SEED = 1234321\n",
    "\n",
    "random.seed(SEED)\n",
    "np.random.seed(SEED)\n",
    "torch.manual_seed(SEED)\n",
    "torch.cuda.manual_seed(SEED)\n",
    "torch.backends.cudnn.deterministic = True"
   ]
  },
  {
   "cell_type": "markdown",
   "metadata": {},
   "source": [
    "## Network architecture definition"
   ]
  },
  {
   "cell_type": "markdown",
   "metadata": {},
   "source": [
    "*Reference:* The following block of code is adapted from the repository: https://github.com/kuangliu/pytorch-cifar"
   ]
  },
  {
   "cell_type": "code",
   "execution_count": 3,
   "metadata": {
    "colab": {
     "base_uri": "https://localhost:8080/"
    },
    "id": "YMdRg8z2W8W5",
    "outputId": "f881c710-7717-42fc-b3ae-f5c6f6c5f377"
   },
   "outputs": [],
   "source": [
    "'''ResNet in PyTorch.\n",
    "\n",
    "For Pre-activation ResNet, see 'preact_resnet.py'.\n",
    "\n",
    "Reference:\n",
    "[1] Kaiming He, Xiangyu Zhang, Shaoqing Ren, Jian Sun\n",
    "    Deep Residual Learning for Image Recognition. arXiv:1512.03385\n",
    "'''\n",
    "import torch\n",
    "import torch.nn as nn\n",
    "import torch.nn.functional as F\n",
    "\n",
    "\n",
    "class BasicBlock(nn.Module):\n",
    "    expansion = 1\n",
    "\n",
    "    def __init__(self, in_planes, planes, stride=2, dropout_rate=0.15):\n",
    "        super(BasicBlock, self).__init__()\n",
    "        self.conv1 = nn.Conv2d(\n",
    "            in_planes, planes, kernel_size=3, stride=stride, padding=1, bias=False)\n",
    "        self.bn1 = nn.BatchNorm2d(planes)\n",
    "        self.dropout = nn.Dropout(dropout_rate)  # Add dropout\n",
    "        self.conv2 = nn.Conv2d(planes, planes, kernel_size=3,\n",
    "                               stride=1, padding=1, bias=False)\n",
    "        self.bn2 = nn.BatchNorm2d(planes)\n",
    "\n",
    "        self.shortcut = nn.Sequential()\n",
    "        if stride != 1 or in_planes != self.expansion*planes:\n",
    "            self.shortcut = nn.Sequential(\n",
    "                nn.Conv2d(in_planes, self.expansion*planes,\n",
    "                          kernel_size=1, stride=stride, bias=False),\n",
    "                nn.BatchNorm2d(self.expansion*planes)\n",
    "            )\n",
    "\n",
    "    def forward(self, x):\n",
    "        out = F.relu(self.bn1(self.conv1(x)))\n",
    "        out = self.dropout(out)  # Apply dropout after activation\n",
    "        out = self.bn2(self.conv2(out))\n",
    "        out += self.shortcut(x)\n",
    "        out = F.relu(out)\n",
    "        return out\n",
    "\n",
    "\n",
    "\n",
    "\n",
    "class Bottleneck(nn.Module):\n",
    "    expansion = 2\n",
    "\n",
    "    def __init__(self, in_planes, planes, stride=1, dropout_rate=0.12):\n",
    "        super(Bottleneck, self).__init__()\n",
    "        self.conv1 = nn.Conv2d(in_planes, planes, kernel_size=1, bias=False)\n",
    "        self.bn1 = nn.BatchNorm2d(planes)\n",
    "        self.dropout1 = nn.Dropout(dropout_rate)  # Add dropout\n",
    "        self.conv2 = nn.Conv2d(planes, planes, kernel_size=3,\n",
    "                               stride=stride, padding=1, bias=False)\n",
    "        self.bn2 = nn.BatchNorm2d(planes)\n",
    "        self.dropout2 = nn.Dropout(dropout_rate)  # Add another dropout\n",
    "        self.conv3 = nn.Conv2d(planes, self.expansion *\n",
    "                               planes, kernel_size=1, bias=False)\n",
    "        self.bn3 = nn.BatchNorm2d(self.expansion*planes)\n",
    "\n",
    "        self.shortcut = nn.Sequential()\n",
    "        if stride != 1 or in_planes != self.expansion*planes:\n",
    "            self.shortcut = nn.Sequential(\n",
    "                nn.Conv2d(in_planes, self.expansion*planes,\n",
    "                          kernel_size=1, stride=stride, bias=False),\n",
    "                nn.BatchNorm2d(self.expansion*planes)\n",
    "            )\n",
    "\n",
    "    def forward(self, x):\n",
    "        out = F.relu(self.bn1(self.conv1(x)))\n",
    "        out = self.dropout1(out)  # Apply dropout after first activation\n",
    "        out = F.relu(self.bn2(self.conv2(out)))\n",
    "        out = self.dropout2(out)  # Apply dropout after second activation\n",
    "        out = self.bn3(self.conv3(out))\n",
    "        out += self.shortcut(x)\n",
    "        out = F.relu(out)\n",
    "        return out\n",
    "\n",
    "class ResNet(nn.Module):\n",
    "    def __init__(self, block, num_blocks, num_classes=10):\n",
    "        super(ResNet, self).__init__()\n",
    "        self.in_planes = 42\n",
    "\n",
    "        self.conv1 = nn.Conv2d(3, 42, kernel_size=3,\n",
    "                               stride=1, padding=1, bias=False)\n",
    "        self.bn1 = nn.BatchNorm2d(42)\n",
    "        self.layer1 = self._make_layer(block, 42, num_blocks[0], stride=1)\n",
    "        self.layer2 = self._make_layer(block, 84, num_blocks[1], stride=2)\n",
    "        self.layer3 = self._make_layer(block, 168, num_blocks[2], stride=2)\n",
    "        self.layer4 = self._make_layer(block, 336, num_blocks[2], stride=2)\n",
    "\n",
    "        self.linear = nn.Linear(336*block.expansion, num_classes)\n",
    "\n",
    "    def _make_layer(self, block, planes, num_blocks, stride):\n",
    "        strides = [stride] + [1]*(num_blocks-1)\n",
    "        layers = []\n",
    "        for stride in strides:\n",
    "            layers.append(block(self.in_planes, planes, stride))\n",
    "            self.in_planes = planes * block.expansion\n",
    "        return nn.Sequential(*layers)\n",
    "\n",
    "    def forward(self, x):\n",
    "        out = F.relu(self.bn1(self.conv1(x)))\n",
    "        out = self.layer1(out)\n",
    "        out = self.layer2(out)\n",
    "        out = self.layer3(out)\n",
    "        out = self.layer4(out)\n",
    "        out = F.avg_pool2d(out, 4)\n",
    "        out = out.view(out.size(0), -1)\n",
    "        out = self.linear(out)\n",
    "        return out\n",
    "\n",
    "\n",
    "def ResNet18():\n",
    "    return ResNet(BasicBlock, [2, 2, 2, 2])\n",
    "\n",
    "def test():\n",
    "    net = ResNet18()\n",
    "    y = net(torch.randn(1, 3, 32, 32))\n",
    "    print(y.size())\n",
    "\n",
    "# test()\n"
   ]
  },
  {
   "cell_type": "code",
   "execution_count": 4,
   "metadata": {},
   "outputs": [
    {
     "name": "stdout",
     "output_type": "stream",
     "text": [
      "----------------------------------------------------------------\n",
      "        Layer (type)               Output Shape         Param #\n",
      "================================================================\n",
      "            Conv2d-1           [-1, 42, 32, 32]           1,134\n",
      "       BatchNorm2d-2           [-1, 42, 32, 32]              84\n",
      "            Conv2d-3           [-1, 42, 32, 32]          15,876\n",
      "       BatchNorm2d-4           [-1, 42, 32, 32]              84\n",
      "           Dropout-5           [-1, 42, 32, 32]               0\n",
      "            Conv2d-6           [-1, 42, 32, 32]          15,876\n",
      "       BatchNorm2d-7           [-1, 42, 32, 32]              84\n",
      "        BasicBlock-8           [-1, 42, 32, 32]               0\n",
      "            Conv2d-9           [-1, 42, 32, 32]          15,876\n",
      "      BatchNorm2d-10           [-1, 42, 32, 32]              84\n",
      "          Dropout-11           [-1, 42, 32, 32]               0\n",
      "           Conv2d-12           [-1, 42, 32, 32]          15,876\n",
      "      BatchNorm2d-13           [-1, 42, 32, 32]              84\n",
      "       BasicBlock-14           [-1, 42, 32, 32]               0\n",
      "           Conv2d-15           [-1, 84, 16, 16]          31,752\n",
      "      BatchNorm2d-16           [-1, 84, 16, 16]             168\n",
      "          Dropout-17           [-1, 84, 16, 16]               0\n",
      "           Conv2d-18           [-1, 84, 16, 16]          63,504\n",
      "      BatchNorm2d-19           [-1, 84, 16, 16]             168\n",
      "           Conv2d-20           [-1, 84, 16, 16]           3,528\n",
      "      BatchNorm2d-21           [-1, 84, 16, 16]             168\n",
      "       BasicBlock-22           [-1, 84, 16, 16]               0\n",
      "           Conv2d-23           [-1, 84, 16, 16]          63,504\n",
      "      BatchNorm2d-24           [-1, 84, 16, 16]             168\n",
      "          Dropout-25           [-1, 84, 16, 16]               0\n",
      "           Conv2d-26           [-1, 84, 16, 16]          63,504\n",
      "      BatchNorm2d-27           [-1, 84, 16, 16]             168\n",
      "       BasicBlock-28           [-1, 84, 16, 16]               0\n",
      "           Conv2d-29            [-1, 168, 8, 8]         127,008\n",
      "      BatchNorm2d-30            [-1, 168, 8, 8]             336\n",
      "          Dropout-31            [-1, 168, 8, 8]               0\n",
      "           Conv2d-32            [-1, 168, 8, 8]         254,016\n",
      "      BatchNorm2d-33            [-1, 168, 8, 8]             336\n",
      "           Conv2d-34            [-1, 168, 8, 8]          14,112\n",
      "      BatchNorm2d-35            [-1, 168, 8, 8]             336\n",
      "       BasicBlock-36            [-1, 168, 8, 8]               0\n",
      "           Conv2d-37            [-1, 168, 8, 8]         254,016\n",
      "      BatchNorm2d-38            [-1, 168, 8, 8]             336\n",
      "          Dropout-39            [-1, 168, 8, 8]               0\n",
      "           Conv2d-40            [-1, 168, 8, 8]         254,016\n",
      "      BatchNorm2d-41            [-1, 168, 8, 8]             336\n",
      "       BasicBlock-42            [-1, 168, 8, 8]               0\n",
      "           Conv2d-43            [-1, 336, 4, 4]         508,032\n",
      "      BatchNorm2d-44            [-1, 336, 4, 4]             672\n",
      "          Dropout-45            [-1, 336, 4, 4]               0\n",
      "           Conv2d-46            [-1, 336, 4, 4]       1,016,064\n",
      "      BatchNorm2d-47            [-1, 336, 4, 4]             672\n",
      "           Conv2d-48            [-1, 336, 4, 4]          56,448\n",
      "      BatchNorm2d-49            [-1, 336, 4, 4]             672\n",
      "       BasicBlock-50            [-1, 336, 4, 4]               0\n",
      "           Conv2d-51            [-1, 336, 4, 4]       1,016,064\n",
      "      BatchNorm2d-52            [-1, 336, 4, 4]             672\n",
      "          Dropout-53            [-1, 336, 4, 4]               0\n",
      "           Conv2d-54            [-1, 336, 4, 4]       1,016,064\n",
      "      BatchNorm2d-55            [-1, 336, 4, 4]             672\n",
      "       BasicBlock-56            [-1, 336, 4, 4]               0\n",
      "           Linear-57                   [-1, 10]           3,370\n",
      "================================================================\n",
      "Total params: 4,815,940\n",
      "Trainable params: 4,815,940\n",
      "Non-trainable params: 0\n",
      "----------------------------------------------------------------\n",
      "Input size (MB): 0.01\n",
      "Forward/backward pass size (MB): 8.61\n",
      "Params size (MB): 18.37\n",
      "Estimated Total Size (MB): 27.00\n",
      "----------------------------------------------------------------\n"
     ]
    }
   ],
   "source": [
    "device = 'cuda' if torch.cuda.is_available() else 'cpu'\n",
    "layers=[1, 1, 1, 1]\n",
    "\n",
    "net = ResNet18().to(device)\n",
    "summary(net, input_size=(3, 32, 32))"
   ]
  },
  {
   "cell_type": "markdown",
   "metadata": {},
   "source": [
    "Trainable parameters ~4.8M"
   ]
  },
  {
   "cell_type": "markdown",
   "metadata": {},
   "source": [
    "## Data Augmentation Step"
   ]
  },
  {
   "cell_type": "code",
   "execution_count": 6,
   "metadata": {
    "colab": {
     "base_uri": "https://localhost:8080/"
    },
    "id": "SamJ3zXtW8W5",
    "outputId": "c7fb4b58-c15e-42ac-ee39-3126cf1c9178"
   },
   "outputs": [
    {
     "name": "stdout",
     "output_type": "stream",
     "text": [
      "Files already downloaded and verified\n",
      "Files already downloaded and verified\n",
      "Files already downloaded and verified\n"
     ]
    },
    {
     "name": "stderr",
     "output_type": "stream",
     "text": [
      "/home/sa8237/.local/lib/python3.11/site-packages/torch/utils/data/dataloader.py:558: UserWarning: This DataLoader will create 6 worker processes in total. Our suggested max number of worker in current system is 4, which is smaller than what this DataLoader is going to create. Please be aware that excessive worker creation might get DataLoader running slow or even freeze, lower the worker number to avoid potential slowness/freeze if necessary.\n",
      "  warnings.warn(_create_warning_msg(\n"
     ]
    }
   ],
   "source": [
    "from torch.utils.data import ConcatDataset\n",
    "# Load the dataset\n",
    "# Defining Transformers for train and test set differently\n",
    "train_transform = transforms.Compose([\n",
    "    transforms.RandomRotation(10),  # Random rotation within 5 degrees\n",
    "    transforms.RandomHorizontalFlip(0.5),  # 50% chance of horizontal flip\n",
    "    transforms.RandomCrop(32, padding=4),  # Random crop with padding\n",
    "    transforms.ColorJitter(brightness=0.2, contrast=0.2, saturation=0.2, hue=0.1),  # Randomly jitter color properties\n",
    "    transforms.RandomAffine(degrees=0, translate=(0.1, 0.1)),  # Random translation of 10%\n",
    "    transforms.ToTensor(),\n",
    "    transforms.Normalize(mean=[0.4914, 0.4822, 0.4465], std=[0.2023, 0.1994, 0.2010])\n",
    "])\n",
    "# Normal transformation for original images\n",
    "normal_transform = transforms.Compose([\n",
    "    transforms.ToTensor(),\n",
    "    transforms.Normalize(mean=[0.4914, 0.4822, 0.4465], std=[0.2023, 0.1994, 0.2010])\n",
    "])\n",
    "\n",
    "\n",
    "\n",
    "\n",
    "\n",
    "train_dataset_transformed = torchvision.datasets.CIFAR10(root='./data', train=True, download=True, transform=train_transform)\n",
    "train_dataset_normal = torchvision.datasets.CIFAR10(root='./data', train=True, download=True, transform=normal_transform)\n",
    "\n",
    "# Concatenate the two datasets\n",
    "# This steps adds transformed version of the CIFAR10 dataset to itself - increasing the number of datapoints that our model can learn from\n",
    "combined_dataset = ConcatDataset([train_dataset_transformed, train_dataset_normal])\n",
    "train_loader = torch.utils.data.DataLoader(combined_dataset, batch_size=100, shuffle=True)\n",
    "train_dataset=combined_dataset\n",
    "\n",
    "\n",
    "\n",
    "\n",
    "# Concatenate the two datasets\n",
    "test_transform = transforms.Compose([\n",
    "                           transforms.ToTensor(),\n",
    "                           transforms.Normalize(mean = [0.4914, 0.4822, 0.4465],\n",
    "                                                std = [0.2023, 0.1994, 0.2010])\n",
    "                       ])\n",
    "test_dataset = datasets.CIFAR10(root='./data', train=False, download=True, transform=test_transform)\n",
    "test_loader = torch.utils.data.DataLoader(test_dataset, batch_size=100, shuffle=False, num_workers=6)"
   ]
  },
  {
   "cell_type": "code",
   "execution_count": 7,
   "metadata": {},
   "outputs": [
    {
     "data": {
      "image/png": "[encoded data removed]",
      "text/plain": [
       "<Figure size 800x800 with 16 Axes>"
      ]
     },
     "metadata": {},
     "output_type": "display_data"
    }
   ],
   "source": [
    "# Checking the data is loaded correctly\n",
    "def plot_images(images, labels, classes, normalize = False):\n",
    "    n_images = len(images)\n",
    "    rows = int(np.sqrt(n_images))\n",
    "    cols = int(np.sqrt(n_images))\n",
    "    fig = plt.figure(figsize = (8, 8))\n",
    "    for i in range(rows*cols):\n",
    "        ax = fig.add_subplot(rows, cols, i+1)       \n",
    "        image = images[i]\n",
    "        if normalize:\n",
    "            image_min = image.min()\n",
    "            image_max = image.max()\n",
    "            image.clamp_(min = image_min, max = image_max)\n",
    "            image.add_(-image_min).div_(image_max - image_min + 1e-5)\n",
    "        ax.imshow(image.permute(1, 2, 0).cpu().numpy())\n",
    "        ax.set_title(classes[labels[i]])\n",
    "        ax.axis('off')\n",
    "\n",
    "N_IMAGES = 16\n",
    "images, labels = zip(*[(image, label) for image, label in [train_dataset[i] for i in range(N_IMAGES)]])\n",
    "classes = test_dataset.classes\n",
    "plot_images(images, labels, classes, normalize = True)"
   ]
  },
  {
   "cell_type": "markdown",
   "metadata": {},
   "source": [
    "## ResNet Training"
   ]
  },
  {
   "cell_type": "code",
   "execution_count": 8,
   "metadata": {
    "id": "OZQ4C0OjW8W6"
   },
   "outputs": [],
   "source": [
    "def train(data_loader, model, criterion, optimizer, scheduler = None, early_stop=None):\n",
    "    learning_rate_tracker = {}\n",
    "    epoch_correct = 0\n",
    "    running_loss = 0.0\n",
    "    model.train()\n",
    "    for i, (images, labels) in tqdm(enumerate(data_loader)):\n",
    "        learning_rate_tracker[i] = optimizer.param_groups[0]['lr']\n",
    "\n",
    "        images = images.to(device)\n",
    "        labels = labels.to(device)\n",
    "\n",
    "        optimizer.zero_grad()\n",
    "        outputs = model(images)\n",
    "        loss = criterion(outputs, labels)\n",
    "        running_loss += loss.item()\n",
    "        predicted = torch.max(outputs.data, 1)[1]\n",
    "        epoch_correct += (predicted == labels).sum().item()\n",
    "\n",
    "        if early_stop and i==early_stop:\n",
    "            break\n",
    "\n",
    "        loss.backward()\n",
    "        optimizer.step()\n",
    "        if scheduler:\n",
    "            scheduler.step()\n",
    "\n",
    "\n",
    "    return epoch_correct , running_loss, learning_rate_tracker\n",
    "\n",
    "def evaluate(data_loader, model, criterion):\n",
    "    epoch_correct = 0\n",
    "    running_loss = 0.0\n",
    "    y_true = []\n",
    "    y_pred = []\n",
    "    model.eval()\n",
    "    with torch.no_grad():\n",
    "        for images, labels in data_loader:\n",
    "            images = images.to(device)\n",
    "            labels = labels.to(device)\n",
    "            outputs = model(images)\n",
    "            loss = criterion(outputs, labels)\n",
    "            running_loss += loss.item()\n",
    "            _, predicted = torch.max(outputs, 1)\n",
    "            epoch_correct += (predicted == labels).sum().item()\n",
    "            y_true.extend(labels.cpu().numpy())\n",
    "            y_pred.extend(predicted.cpu().numpy())\n",
    "\n",
    "    return epoch_correct, running_loss, y_true, y_pred"
   ]
  },
  {
   "cell_type": "code",
   "execution_count": 9,
   "metadata": {
    "colab": {
     "base_uri": "https://localhost:8080/"
    },
    "id": "EoheAGCUW8W6",
    "outputId": "d852a5f9-38b7-4f82-bb84-7b764230de72"
   },
   "outputs": [
    {
     "name": "stdout",
     "output_type": "stream",
     "text": [
      "Epoch: 1/80\n"
     ]
    },
    {
     "name": "stderr",
     "output_type": "stream",
     "text": [
      "1000it [01:05, 15.28it/s]\n"
     ]
    },
    {
     "name": "stdout",
     "output_type": "stream",
     "text": [
      "Train Accuracy: 51.52%, Train Loss: 1.336574658036232\n",
      "Test Accuracy: 61.70%, Test Loss: 1.1752302235364913\n",
      "Epoch: 2/80\n"
     ]
    },
    {
     "name": "stderr",
     "output_type": "stream",
     "text": [
      "1000it [01:01, 16.27it/s]\n"
     ]
    },
    {
     "name": "stdout",
     "output_type": "stream",
     "text": [
      "Train Accuracy: 71.34%, Train Loss: 0.8173257927894593\n",
      "Test Accuracy: 79.45%, Test Loss: 0.5807479244470596\n",
      "Epoch: 3/80\n"
     ]
    },
    {
     "name": "stderr",
     "output_type": "stream",
     "text": [
      "1000it [01:01, 16.32it/s]\n"
     ]
    },
    {
     "name": "stdout",
     "output_type": "stream",
     "text": [
      "Train Accuracy: 81.16%, Train Loss: 0.5413931063562631\n",
      "Test Accuracy: 86.69%, Test Loss: 0.3914210134744644\n",
      "Epoch: 4/80\n"
     ]
    },
    {
     "name": "stderr",
     "output_type": "stream",
     "text": [
      "1000it [01:01, 16.28it/s]\n"
     ]
    },
    {
     "name": "stdout",
     "output_type": "stream",
     "text": [
      "Train Accuracy: 84.72%, Train Loss: 0.44140750509500504\n",
      "Test Accuracy: 78.37%, Test Loss: 0.6575774630904198\n",
      "Epoch: 5/80\n"
     ]
    },
    {
     "name": "stderr",
     "output_type": "stream",
     "text": [
      "1000it [01:01, 16.30it/s]\n"
     ]
    },
    {
     "name": "stdout",
     "output_type": "stream",
     "text": [
      "Train Accuracy: 81.46%, Train Loss: 0.5346139634847641\n",
      "Test Accuracy: 84.49%, Test Loss: 0.46376505941152574\n",
      "Epoch: 6/80\n"
     ]
    },
    {
     "name": "stderr",
     "output_type": "stream",
     "text": [
      "1000it [01:01, 16.27it/s]\n"
     ]
    },
    {
     "name": "stdout",
     "output_type": "stream",
     "text": [
      "Train Accuracy: 86.67%, Train Loss: 0.38199026364088057\n",
      "Test Accuracy: 89.20%, Test Loss: 0.3217538625001907\n",
      "Epoch: 7/80\n"
     ]
    },
    {
     "name": "stderr",
     "output_type": "stream",
     "text": [
      "1000it [01:01, 16.28it/s]\n"
     ]
    },
    {
     "name": "stdout",
     "output_type": "stream",
     "text": [
      "Train Accuracy: 90.56%, Train Loss: 0.2724947279393673\n",
      "Test Accuracy: 88.40%, Test Loss: 0.35035266041755675\n",
      "Epoch: 8/80\n"
     ]
    },
    {
     "name": "stderr",
     "output_type": "stream",
     "text": [
      "1000it [01:01, 16.27it/s]\n"
     ]
    },
    {
     "name": "stdout",
     "output_type": "stream",
     "text": [
      "Train Accuracy: 87.27%, Train Loss: 0.3642859363406897\n",
      "Test Accuracy: 86.04%, Test Loss: 0.41786556124687196\n",
      "Epoch: 9/80\n"
     ]
    },
    {
     "name": "stderr",
     "output_type": "stream",
     "text": [
      "1000it [01:01, 16.30it/s]\n"
     ]
    },
    {
     "name": "stdout",
     "output_type": "stream",
     "text": [
      "Train Accuracy: 89.91%, Train Loss: 0.2903059648796916\n",
      "Test Accuracy: 90.02%, Test Loss: 0.3058163801580667\n",
      "Epoch: 10/80\n"
     ]
    },
    {
     "name": "stderr",
     "output_type": "stream",
     "text": [
      "1000it [01:01, 16.32it/s]\n"
     ]
    },
    {
     "name": "stdout",
     "output_type": "stream",
     "text": [
      "Train Accuracy: 93.32%, Train Loss: 0.19478425643593072\n",
      "Test Accuracy: 90.31%, Test Loss: 0.3175213681906462\n",
      "Epoch: 11/80\n"
     ]
    },
    {
     "name": "stderr",
     "output_type": "stream",
     "text": [
      "1000it [01:01, 16.31it/s]\n"
     ]
    },
    {
     "name": "stdout",
     "output_type": "stream",
     "text": [
      "Train Accuracy: 91.31%, Train Loss: 0.2502302346527576\n",
      "Test Accuracy: 88.17%, Test Loss: 0.38628264486789704\n",
      "Epoch: 12/80\n"
     ]
    },
    {
     "name": "stderr",
     "output_type": "stream",
     "text": [
      "1000it [01:01, 16.28it/s]\n"
     ]
    },
    {
     "name": "stdout",
     "output_type": "stream",
     "text": [
      "Train Accuracy: 92.16%, Train Loss: 0.22728665532916784\n",
      "Test Accuracy: 90.91%, Test Loss: 0.3005538212507963\n",
      "Epoch: 13/80\n"
     ]
    },
    {
     "name": "stderr",
     "output_type": "stream",
     "text": [
      "1000it [01:01, 16.26it/s]\n"
     ]
    },
    {
     "name": "stdout",
     "output_type": "stream",
     "text": [
      "Train Accuracy: 94.77%, Train Loss: 0.15768161402642727\n",
      "Test Accuracy: 90.86%, Test Loss: 0.308421965688467\n",
      "Epoch: 14/80\n"
     ]
    },
    {
     "name": "stderr",
     "output_type": "stream",
     "text": [
      "1000it [01:01, 16.33it/s]\n"
     ]
    },
    {
     "name": "stdout",
     "output_type": "stream",
     "text": [
      "Train Accuracy: 93.68%, Train Loss: 0.1829365954436362\n",
      "Test Accuracy: 88.29%, Test Loss: 0.40915302097797396\n",
      "Epoch: 15/80\n"
     ]
    },
    {
     "name": "stderr",
     "output_type": "stream",
     "text": [
      "1000it [01:01, 16.29it/s]\n"
     ]
    },
    {
     "name": "stdout",
     "output_type": "stream",
     "text": [
      "Train Accuracy: 93.57%, Train Loss: 0.18596622339263558\n",
      "Test Accuracy: 91.06%, Test Loss: 0.30416554898023607\n",
      "Epoch: 16/80\n"
     ]
    },
    {
     "name": "stderr",
     "output_type": "stream",
     "text": [
      "1000it [01:01, 16.35it/s]\n"
     ]
    },
    {
     "name": "stdout",
     "output_type": "stream",
     "text": [
      "Train Accuracy: 95.45%, Train Loss: 0.1342224498540163\n",
      "Test Accuracy: 91.41%, Test Loss: 0.3043673560023308\n",
      "Epoch: 17/80\n"
     ]
    },
    {
     "name": "stderr",
     "output_type": "stream",
     "text": [
      "1000it [01:01, 16.27it/s]\n"
     ]
    },
    {
     "name": "stdout",
     "output_type": "stream",
     "text": [
      "Train Accuracy: 95.13%, Train Loss: 0.14423774081841112\n",
      "Test Accuracy: 91.09%, Test Loss: 0.32128294348716735\n",
      "Epoch: 18/80\n"
     ]
    },
    {
     "name": "stderr",
     "output_type": "stream",
     "text": [
      "1000it [01:01, 16.26it/s]\n"
     ]
    },
    {
     "name": "stdout",
     "output_type": "stream",
     "text": [
      "Train Accuracy: 94.64%, Train Loss: 0.15528081665001808\n",
      "Test Accuracy: 91.70%, Test Loss: 0.3082888545840979\n",
      "Epoch: 19/80\n"
     ]
    },
    {
     "name": "stderr",
     "output_type": "stream",
     "text": [
      "1000it [01:01, 16.32it/s]\n"
     ]
    },
    {
     "name": "stdout",
     "output_type": "stream",
     "text": [
      "Train Accuracy: 95.97%, Train Loss: 0.11776392064802349\n",
      "Test Accuracy: 92.17%, Test Loss: 0.2926936363428831\n",
      "Epoch: 20/80\n"
     ]
    },
    {
     "name": "stderr",
     "output_type": "stream",
     "text": [
      "1000it [01:01, 16.30it/s]\n"
     ]
    },
    {
     "name": "stdout",
     "output_type": "stream",
     "text": [
      "Train Accuracy: 95.92%, Train Loss: 0.11814212757069617\n",
      "Test Accuracy: 91.39%, Test Loss: 0.3226467636227608\n",
      "Epoch: 21/80\n"
     ]
    },
    {
     "name": "stderr",
     "output_type": "stream",
     "text": [
      "1000it [01:01, 16.27it/s]\n"
     ]
    },
    {
     "name": "stdout",
     "output_type": "stream",
     "text": [
      "Train Accuracy: 95.50%, Train Loss: 0.1298854426573962\n",
      "Test Accuracy: 91.85%, Test Loss: 0.3140515570342541\n",
      "Epoch: 22/80\n"
     ]
    },
    {
     "name": "stderr",
     "output_type": "stream",
     "text": [
      "1000it [01:01, 16.29it/s]\n"
     ]
    },
    {
     "name": "stdout",
     "output_type": "stream",
     "text": [
      "Train Accuracy: 96.31%, Train Loss: 0.10580814968887717\n",
      "Test Accuracy: 92.50%, Test Loss: 0.29629119373857976\n",
      "Epoch: 23/80\n"
     ]
    },
    {
     "name": "stderr",
     "output_type": "stream",
     "text": [
      "1000it [01:01, 16.29it/s]\n"
     ]
    },
    {
     "name": "stdout",
     "output_type": "stream",
     "text": [
      "Train Accuracy: 96.51%, Train Loss: 0.10132450895570219\n",
      "Test Accuracy: 91.73%, Test Loss: 0.31727477490901945\n",
      "Epoch: 24/80\n"
     ]
    },
    {
     "name": "stderr",
     "output_type": "stream",
     "text": [
      "1000it [01:01, 16.30it/s]\n"
     ]
    },
    {
     "name": "stdout",
     "output_type": "stream",
     "text": [
      "Train Accuracy: 96.19%, Train Loss: 0.11283204473182559\n",
      "Test Accuracy: 91.77%, Test Loss: 0.30988201074302196\n",
      "Epoch: 25/80\n"
     ]
    },
    {
     "name": "stderr",
     "output_type": "stream",
     "text": [
      "1000it [01:01, 16.30it/s]\n"
     ]
    },
    {
     "name": "stdout",
     "output_type": "stream",
     "text": [
      "Train Accuracy: 96.66%, Train Loss: 0.0963945308253169\n",
      "Test Accuracy: 92.31%, Test Loss: 0.2962601174414158\n",
      "Epoch: 26/80\n"
     ]
    },
    {
     "name": "stderr",
     "output_type": "stream",
     "text": [
      "1000it [01:01, 16.29it/s]\n"
     ]
    },
    {
     "name": "stdout",
     "output_type": "stream",
     "text": [
      "Train Accuracy: 96.88%, Train Loss: 0.08916344170738012\n",
      "Test Accuracy: 92.18%, Test Loss: 0.3075179207324982\n",
      "Epoch: 27/80\n"
     ]
    },
    {
     "name": "stderr",
     "output_type": "stream",
     "text": [
      "1000it [01:01, 16.33it/s]\n"
     ]
    },
    {
     "name": "stdout",
     "output_type": "stream",
     "text": [
      "Train Accuracy: 96.56%, Train Loss: 0.09958929998613894\n",
      "Test Accuracy: 92.31%, Test Loss: 0.30039864763617513\n",
      "Epoch: 28/80\n"
     ]
    },
    {
     "name": "stderr",
     "output_type": "stream",
     "text": [
      "1000it [01:01, 16.31it/s]\n"
     ]
    },
    {
     "name": "stdout",
     "output_type": "stream",
     "text": [
      "Train Accuracy: 96.93%, Train Loss: 0.08953008667100221\n",
      "Test Accuracy: 92.56%, Test Loss: 0.2912831737846136\n",
      "Epoch: 29/80\n"
     ]
    },
    {
     "name": "stderr",
     "output_type": "stream",
     "text": [
      "1000it [01:01, 16.33it/s]\n"
     ]
    },
    {
     "name": "stdout",
     "output_type": "stream",
     "text": [
      "Train Accuracy: 97.20%, Train Loss: 0.0812714231275022\n",
      "Test Accuracy: 92.62%, Test Loss: 0.29182693012058736\n",
      "Epoch: 30/80\n"
     ]
    },
    {
     "name": "stderr",
     "output_type": "stream",
     "text": [
      "1000it [01:01, 16.33it/s]\n"
     ]
    },
    {
     "name": "stdout",
     "output_type": "stream",
     "text": [
      "Train Accuracy: 97.01%, Train Loss: 0.08637303393427283\n",
      "Test Accuracy: 92.29%, Test Loss: 0.32235254473984243\n",
      "Epoch: 31/80\n"
     ]
    },
    {
     "name": "stderr",
     "output_type": "stream",
     "text": [
      "1000it [01:01, 16.27it/s]\n"
     ]
    },
    {
     "name": "stdout",
     "output_type": "stream",
     "text": [
      "Train Accuracy: 97.11%, Train Loss: 0.08232101397402584\n",
      "Test Accuracy: 92.65%, Test Loss: 0.2965137982368469\n",
      "Epoch: 32/80\n"
     ]
    },
    {
     "name": "stderr",
     "output_type": "stream",
     "text": [
      "1000it [01:01, 16.30it/s]\n"
     ]
    },
    {
     "name": "stdout",
     "output_type": "stream",
     "text": [
      "Train Accuracy: 97.26%, Train Loss: 0.07854267194028944\n",
      "Test Accuracy: 92.48%, Test Loss: 0.30462660506367684\n",
      "Epoch: 33/80\n"
     ]
    },
    {
     "name": "stderr",
     "output_type": "stream",
     "text": [
      "1000it [01:01, 16.35it/s]\n"
     ]
    },
    {
     "name": "stdout",
     "output_type": "stream",
     "text": [
      "Train Accuracy: 97.21%, Train Loss: 0.07911843884456903\n",
      "Test Accuracy: 92.51%, Test Loss: 0.30519664600491525\n",
      "Epoch: 34/80\n"
     ]
    },
    {
     "name": "stderr",
     "output_type": "stream",
     "text": [
      "1000it [01:01, 16.34it/s]\n"
     ]
    },
    {
     "name": "stdout",
     "output_type": "stream",
     "text": [
      "Train Accuracy: 97.29%, Train Loss: 0.07691447038203478\n",
      "Test Accuracy: 92.69%, Test Loss: 0.29325267031788826\n",
      "Epoch: 35/80\n"
     ]
    },
    {
     "name": "stderr",
     "output_type": "stream",
     "text": [
      "1000it [01:01, 16.34it/s]\n"
     ]
    },
    {
     "name": "stdout",
     "output_type": "stream",
     "text": [
      "Train Accuracy: 97.53%, Train Loss: 0.07136096272990107\n",
      "Test Accuracy: 92.68%, Test Loss: 0.29693460278213024\n",
      "Epoch: 36/80\n"
     ]
    },
    {
     "name": "stderr",
     "output_type": "stream",
     "text": [
      "1000it [01:01, 16.32it/s]\n"
     ]
    },
    {
     "name": "stdout",
     "output_type": "stream",
     "text": [
      "Train Accuracy: 97.44%, Train Loss: 0.07506774850375951\n",
      "Test Accuracy: 92.62%, Test Loss: 0.306022530272603\n",
      "Epoch: 37/80\n"
     ]
    },
    {
     "name": "stderr",
     "output_type": "stream",
     "text": [
      "1000it [01:05, 15.32it/s]\n"
     ]
    },
    {
     "name": "stdout",
     "output_type": "stream",
     "text": [
      "Train Accuracy: 97.53%, Train Loss: 0.07199803979415446\n",
      "Test Accuracy: 92.67%, Test Loss: 0.3002928400412202\n",
      "Epoch: 38/80\n"
     ]
    },
    {
     "name": "stderr",
     "output_type": "stream",
     "text": [
      "1000it [01:05, 15.15it/s]\n"
     ]
    },
    {
     "name": "stdout",
     "output_type": "stream",
     "text": [
      "Train Accuracy: 97.60%, Train Loss: 0.06830231387773529\n",
      "Test Accuracy: 92.86%, Test Loss: 0.2959473802894354\n",
      "Epoch: 39/80\n"
     ]
    },
    {
     "name": "stderr",
     "output_type": "stream",
     "text": [
      "1000it [01:06, 15.10it/s]\n"
     ]
    },
    {
     "name": "stdout",
     "output_type": "stream",
     "text": [
      "Train Accuracy: 97.68%, Train Loss: 0.06701070571271703\n",
      "Test Accuracy: 92.71%, Test Loss: 0.2981721540540457\n",
      "Epoch: 40/80\n"
     ]
    },
    {
     "name": "stderr",
     "output_type": "stream",
     "text": [
      "1000it [01:06, 15.13it/s]\n"
     ]
    },
    {
     "name": "stdout",
     "output_type": "stream",
     "text": [
      "Train Accuracy: 97.48%, Train Loss: 0.07070304441917688\n",
      "Test Accuracy: 92.74%, Test Loss: 0.29479097343981264\n",
      "Epoch: 41/80\n"
     ]
    },
    {
     "name": "stderr",
     "output_type": "stream",
     "text": [
      "1000it [01:05, 15.16it/s]\n"
     ]
    },
    {
     "name": "stdout",
     "output_type": "stream",
     "text": [
      "Train Accuracy: 97.62%, Train Loss: 0.06737794957263395\n",
      "Test Accuracy: 92.75%, Test Loss: 0.29562802337110045\n",
      "Epoch: 42/80\n"
     ]
    },
    {
     "name": "stderr",
     "output_type": "stream",
     "text": [
      "1000it [01:05, 15.18it/s]\n"
     ]
    },
    {
     "name": "stdout",
     "output_type": "stream",
     "text": [
      "Train Accuracy: 97.62%, Train Loss: 0.06739194362191483\n",
      "Test Accuracy: 92.92%, Test Loss: 0.29646925516426564\n",
      "Epoch: 43/80\n"
     ]
    },
    {
     "name": "stderr",
     "output_type": "stream",
     "text": [
      "1000it [01:05, 15.22it/s]\n"
     ]
    },
    {
     "name": "stdout",
     "output_type": "stream",
     "text": [
      "Train Accuracy: 97.68%, Train Loss: 0.06658804690139368\n",
      "Test Accuracy: 92.89%, Test Loss: 0.2992237590253353\n",
      "Epoch: 44/80\n"
     ]
    },
    {
     "name": "stderr",
     "output_type": "stream",
     "text": [
      "1000it [01:06, 15.13it/s]\n"
     ]
    },
    {
     "name": "stdout",
     "output_type": "stream",
     "text": [
      "Train Accuracy: 97.79%, Train Loss: 0.06562712840456515\n",
      "Test Accuracy: 92.93%, Test Loss: 0.2980107047408819\n",
      "Epoch: 45/80\n"
     ]
    },
    {
     "name": "stderr",
     "output_type": "stream",
     "text": [
      "1000it [01:06, 15.12it/s]\n"
     ]
    },
    {
     "name": "stdout",
     "output_type": "stream",
     "text": [
      "Train Accuracy: 97.76%, Train Loss: 0.06469367943750694\n",
      "Test Accuracy: 92.86%, Test Loss: 0.29957572154700757\n",
      "Epoch: 46/80\n"
     ]
    },
    {
     "name": "stderr",
     "output_type": "stream",
     "text": [
      "1000it [01:05, 15.15it/s]\n"
     ]
    },
    {
     "name": "stdout",
     "output_type": "stream",
     "text": [
      "Train Accuracy: 97.77%, Train Loss: 0.06371921885572374\n",
      "Test Accuracy: 92.92%, Test Loss: 0.30073639899492266\n",
      "Epoch: 47/80\n"
     ]
    },
    {
     "name": "stderr",
     "output_type": "stream",
     "text": [
      "1000it [01:06, 15.10it/s]\n"
     ]
    },
    {
     "name": "stdout",
     "output_type": "stream",
     "text": [
      "Train Accuracy: 97.78%, Train Loss: 0.06344520017132163\n",
      "Test Accuracy: 92.95%, Test Loss: 0.2966473788768053\n",
      "Epoch: 48/80\n"
     ]
    },
    {
     "name": "stderr",
     "output_type": "stream",
     "text": [
      "1000it [01:06, 15.15it/s]\n"
     ]
    },
    {
     "name": "stdout",
     "output_type": "stream",
     "text": [
      "Train Accuracy: 97.83%, Train Loss: 0.06184551514382474\n",
      "Test Accuracy: 92.85%, Test Loss: 0.3010627775639296\n",
      "Epoch: 49/80\n"
     ]
    },
    {
     "name": "stderr",
     "output_type": "stream",
     "text": [
      "1000it [01:05, 15.17it/s]\n"
     ]
    },
    {
     "name": "stdout",
     "output_type": "stream",
     "text": [
      "Train Accuracy: 97.78%, Train Loss: 0.06255818103440106\n",
      "Test Accuracy: 92.90%, Test Loss: 0.29785610996186734\n",
      "Epoch: 50/80\n"
     ]
    },
    {
     "name": "stderr",
     "output_type": "stream",
     "text": [
      "1000it [01:06, 15.15it/s]\n"
     ]
    },
    {
     "name": "stdout",
     "output_type": "stream",
     "text": [
      "Train Accuracy: 97.89%, Train Loss: 0.06054103889828548\n",
      "Test Accuracy: 92.89%, Test Loss: 0.295642211958766\n",
      "Epoch: 51/80\n"
     ]
    },
    {
     "name": "stderr",
     "output_type": "stream",
     "text": [
      "1000it [01:06, 15.13it/s]\n"
     ]
    },
    {
     "name": "stdout",
     "output_type": "stream",
     "text": [
      "Train Accuracy: 97.78%, Train Loss: 0.061944916980341075\n",
      "Test Accuracy: 93.03%, Test Loss: 0.2961942918598652\n",
      "Epoch: 52/80\n"
     ]
    },
    {
     "name": "stderr",
     "output_type": "stream",
     "text": [
      "1000it [01:06, 15.14it/s]\n"
     ]
    },
    {
     "name": "stdout",
     "output_type": "stream",
     "text": [
      "Train Accuracy: 97.87%, Train Loss: 0.06051450172485784\n",
      "Test Accuracy: 92.93%, Test Loss: 0.2980334704369307\n",
      "Epoch: 53/80\n"
     ]
    },
    {
     "name": "stderr",
     "output_type": "stream",
     "text": [
      "1000it [01:06, 15.13it/s]\n"
     ]
    },
    {
     "name": "stdout",
     "output_type": "stream",
     "text": [
      "Train Accuracy: 97.82%, Train Loss: 0.061584018256515265\n",
      "Test Accuracy: 92.91%, Test Loss: 0.29834667332470416\n",
      "Epoch: 54/80\n"
     ]
    },
    {
     "name": "stderr",
     "output_type": "stream",
     "text": [
      "1000it [01:06, 15.15it/s]\n"
     ]
    },
    {
     "name": "stdout",
     "output_type": "stream",
     "text": [
      "Train Accuracy: 97.84%, Train Loss: 0.0612443281095475\n",
      "Test Accuracy: 92.98%, Test Loss: 0.3016344486176968\n",
      "Epoch: 55/80\n"
     ]
    },
    {
     "name": "stderr",
     "output_type": "stream",
     "text": [
      "1000it [01:06, 15.12it/s]\n"
     ]
    },
    {
     "name": "stdout",
     "output_type": "stream",
     "text": [
      "Train Accuracy: 97.81%, Train Loss: 0.06145412184996531\n",
      "Test Accuracy: 93.00%, Test Loss: 0.2976470995694399\n",
      "Epoch: 56/80\n"
     ]
    },
    {
     "name": "stderr",
     "output_type": "stream",
     "text": [
      "1000it [01:06, 15.11it/s]\n"
     ]
    },
    {
     "name": "stdout",
     "output_type": "stream",
     "text": [
      "Train Accuracy: 97.82%, Train Loss: 0.061674776209983975\n",
      "Test Accuracy: 92.97%, Test Loss: 0.3016202246397734\n",
      "Epoch: 57/80\n"
     ]
    },
    {
     "name": "stderr",
     "output_type": "stream",
     "text": [
      "1000it [01:05, 15.17it/s]\n"
     ]
    },
    {
     "name": "stdout",
     "output_type": "stream",
     "text": [
      "Train Accuracy: 97.91%, Train Loss: 0.05937294377433136\n",
      "Test Accuracy: 92.94%, Test Loss: 0.29915823593735696\n",
      "Epoch: 58/80\n"
     ]
    },
    {
     "name": "stderr",
     "output_type": "stream",
     "text": [
      "1000it [01:05, 15.17it/s]\n"
     ]
    },
    {
     "name": "stdout",
     "output_type": "stream",
     "text": [
      "Train Accuracy: 97.94%, Train Loss: 0.06015165570983663\n",
      "Test Accuracy: 93.02%, Test Loss: 0.2996195747703314\n",
      "Epoch: 59/80\n"
     ]
    },
    {
     "name": "stderr",
     "output_type": "stream",
     "text": [
      "1000it [01:06, 15.12it/s]\n"
     ]
    },
    {
     "name": "stdout",
     "output_type": "stream",
     "text": [
      "Train Accuracy: 97.95%, Train Loss: 0.05919489818671718\n",
      "Test Accuracy: 92.98%, Test Loss: 0.29791697300970554\n",
      "Epoch: 60/80\n"
     ]
    },
    {
     "name": "stderr",
     "output_type": "stream",
     "text": [
      "1000it [01:05, 15.18it/s]\n"
     ]
    },
    {
     "name": "stdout",
     "output_type": "stream",
     "text": [
      "Train Accuracy: 97.88%, Train Loss: 0.05939483624650165\n",
      "Test Accuracy: 93.01%, Test Loss: 0.29859383270144463\n",
      "Epoch: 61/80\n"
     ]
    },
    {
     "name": "stderr",
     "output_type": "stream",
     "text": [
      "1000it [01:05, 15.19it/s]\n"
     ]
    },
    {
     "name": "stdout",
     "output_type": "stream",
     "text": [
      "Train Accuracy: 97.96%, Train Loss: 0.059931719878222794\n",
      "Test Accuracy: 93.00%, Test Loss: 0.29907814361155033\n",
      "Epoch: 62/80\n"
     ]
    },
    {
     "name": "stderr",
     "output_type": "stream",
     "text": [
      "1000it [01:06, 15.13it/s]\n"
     ]
    },
    {
     "name": "stdout",
     "output_type": "stream",
     "text": [
      "Train Accuracy: 97.86%, Train Loss: 0.06063844372145832\n",
      "Test Accuracy: 92.99%, Test Loss: 0.2970248069241643\n",
      "Epoch: 63/80\n"
     ]
    },
    {
     "name": "stderr",
     "output_type": "stream",
     "text": [
      "1000it [01:06, 15.11it/s]\n"
     ]
    },
    {
     "name": "stdout",
     "output_type": "stream",
     "text": [
      "Train Accuracy: 97.94%, Train Loss: 0.05962553951051086\n",
      "Test Accuracy: 93.01%, Test Loss: 0.2985542590916157\n",
      "Epoch: 64/80\n"
     ]
    },
    {
     "name": "stderr",
     "output_type": "stream",
     "text": [
      "1000it [01:05, 15.18it/s]\n"
     ]
    },
    {
     "name": "stdout",
     "output_type": "stream",
     "text": [
      "Train Accuracy: 97.89%, Train Loss: 0.05994629202387296\n",
      "Test Accuracy: 93.10%, Test Loss: 0.3008408015221357\n",
      "Epoch: 65/80\n"
     ]
    },
    {
     "name": "stderr",
     "output_type": "stream",
     "text": [
      "1000it [01:05, 15.16it/s]\n"
     ]
    },
    {
     "name": "stdout",
     "output_type": "stream",
     "text": [
      "Train Accuracy: 97.92%, Train Loss: 0.06008161232760176\n",
      "Test Accuracy: 93.04%, Test Loss: 0.29680527620017527\n",
      "Epoch: 66/80\n"
     ]
    },
    {
     "name": "stderr",
     "output_type": "stream",
     "text": [
      "1000it [01:05, 15.21it/s]\n"
     ]
    },
    {
     "name": "stdout",
     "output_type": "stream",
     "text": [
      "Train Accuracy: 97.95%, Train Loss: 0.05856970362970605\n",
      "Test Accuracy: 93.04%, Test Loss: 0.29988211549818516\n",
      "Epoch: 67/80\n"
     ]
    },
    {
     "name": "stderr",
     "output_type": "stream",
     "text": [
      "1000it [01:05, 15.19it/s]\n"
     ]
    },
    {
     "name": "stdout",
     "output_type": "stream",
     "text": [
      "Train Accuracy: 97.97%, Train Loss: 0.058132616824936124\n",
      "Test Accuracy: 92.97%, Test Loss: 0.29879370622336865\n",
      "Epoch: 68/80\n"
     ]
    },
    {
     "name": "stderr",
     "output_type": "stream",
     "text": [
      "1000it [01:05, 15.30it/s]\n"
     ]
    },
    {
     "name": "stdout",
     "output_type": "stream",
     "text": [
      "Train Accuracy: 97.90%, Train Loss: 0.05997897277749144\n",
      "Test Accuracy: 92.96%, Test Loss: 0.30055667825043203\n",
      "Epoch: 69/80\n"
     ]
    },
    {
     "name": "stderr",
     "output_type": "stream",
     "text": [
      "1000it [01:05, 15.29it/s]\n"
     ]
    },
    {
     "name": "stdout",
     "output_type": "stream",
     "text": [
      "Train Accuracy: 97.90%, Train Loss: 0.05951475736219436\n",
      "Test Accuracy: 93.07%, Test Loss: 0.3012327344715595\n",
      "Epoch: 70/80\n"
     ]
    },
    {
     "name": "stderr",
     "output_type": "stream",
     "text": [
      "1000it [01:06, 15.15it/s]\n"
     ]
    },
    {
     "name": "stdout",
     "output_type": "stream",
     "text": [
      "Train Accuracy: 97.96%, Train Loss: 0.057377344521693886\n",
      "Test Accuracy: 92.98%, Test Loss: 0.2976356868445873\n",
      "Epoch: 71/80\n"
     ]
    },
    {
     "name": "stderr",
     "output_type": "stream",
     "text": [
      "1000it [01:06, 15.14it/s]\n"
     ]
    },
    {
     "name": "stdout",
     "output_type": "stream",
     "text": [
      "Train Accuracy: 97.92%, Train Loss: 0.0596495776316151\n",
      "Test Accuracy: 93.05%, Test Loss: 0.29718513317406176\n",
      "Epoch: 72/80\n"
     ]
    },
    {
     "name": "stderr",
     "output_type": "stream",
     "text": [
      "1000it [01:05, 15.16it/s]\n"
     ]
    },
    {
     "name": "stdout",
     "output_type": "stream",
     "text": [
      "Train Accuracy: 97.93%, Train Loss: 0.05936007780325599\n",
      "Test Accuracy: 93.00%, Test Loss: 0.2980153458565474\n",
      "Epoch: 73/80\n"
     ]
    },
    {
     "name": "stderr",
     "output_type": "stream",
     "text": [
      "1000it [01:05, 15.18it/s]\n"
     ]
    },
    {
     "name": "stdout",
     "output_type": "stream",
     "text": [
      "Train Accuracy: 97.92%, Train Loss: 0.05946697084000334\n",
      "Test Accuracy: 93.06%, Test Loss: 0.2992698070406914\n",
      "Epoch: 74/80\n"
     ]
    },
    {
     "name": "stderr",
     "output_type": "stream",
     "text": [
      "1000it [01:05, 15.20it/s]\n"
     ]
    },
    {
     "name": "stdout",
     "output_type": "stream",
     "text": [
      "Train Accuracy: 97.91%, Train Loss: 0.05862920506671071\n",
      "Test Accuracy: 93.13%, Test Loss: 0.2998325760662556\n",
      "Epoch: 75/80\n"
     ]
    },
    {
     "name": "stderr",
     "output_type": "stream",
     "text": [
      "1000it [01:06, 15.14it/s]\n"
     ]
    },
    {
     "name": "stdout",
     "output_type": "stream",
     "text": [
      "Train Accuracy: 97.95%, Train Loss: 0.05895936666987836\n",
      "Test Accuracy: 93.08%, Test Loss: 0.30049701176583765\n",
      "Epoch: 76/80\n"
     ]
    },
    {
     "name": "stderr",
     "output_type": "stream",
     "text": [
      "1000it [01:05, 15.17it/s]\n"
     ]
    },
    {
     "name": "stdout",
     "output_type": "stream",
     "text": [
      "Train Accuracy: 97.96%, Train Loss: 0.05733465343201533\n",
      "Test Accuracy: 93.07%, Test Loss: 0.2968007723987103\n",
      "Epoch: 77/80\n"
     ]
    },
    {
     "name": "stderr",
     "output_type": "stream",
     "text": [
      "1000it [01:05, 15.19it/s]\n"
     ]
    },
    {
     "name": "stdout",
     "output_type": "stream",
     "text": [
      "Train Accuracy: 97.98%, Train Loss: 0.057775719627738\n",
      "Test Accuracy: 93.01%, Test Loss: 0.3000532678514719\n",
      "Epoch: 78/80\n"
     ]
    },
    {
     "name": "stderr",
     "output_type": "stream",
     "text": [
      "1000it [01:05, 15.17it/s]\n"
     ]
    },
    {
     "name": "stdout",
     "output_type": "stream",
     "text": [
      "Train Accuracy: 97.92%, Train Loss: 0.059395872174762186\n",
      "Test Accuracy: 93.10%, Test Loss: 0.2993043555319309\n",
      "Epoch: 79/80\n"
     ]
    },
    {
     "name": "stderr",
     "output_type": "stream",
     "text": [
      "1000it [01:05, 15.16it/s]\n"
     ]
    },
    {
     "name": "stdout",
     "output_type": "stream",
     "text": [
      "Train Accuracy: 98.00%, Train Loss: 0.05787556338682771\n",
      "Test Accuracy: 92.99%, Test Loss: 0.30023327108472586\n",
      "Epoch: 80/80\n"
     ]
    },
    {
     "name": "stderr",
     "output_type": "stream",
     "text": [
      "1000it [01:06, 15.10it/s]\n"
     ]
    },
    {
     "name": "stdout",
     "output_type": "stream",
     "text": [
      "Train Accuracy: 97.98%, Train Loss: 0.057561185220256446\n",
      "Test Accuracy: 93.02%, Test Loss: 0.2988829309493303\n"
     ]
    }
   ],
   "source": [
    "# Defining ranges for learning rate for the scheduler to cycle through\n",
    "lr_min = 1e-6\n",
    "lr_max = 1e-2\n",
    "epochs = 80\n",
    "step_size = (len(train_dataset)/32) // 2\n",
    "\n",
    "model = net\n",
    "criterion = nn.CrossEntropyLoss()\n",
    "optimizer = optim.AdamW(model.parameters(), lr=1e-3, betas=(0.9, 0.999), weight_decay=1e-2)\n",
    "scheduler = optim.lr_scheduler.CyclicLR(optimizer, base_lr=lr_min, max_lr=lr_max, step_size_up=step_size, step_size_down=step_size, gamma=0.9999, mode=\"exp_range\", cycle_momentum=False)\n",
    "lr_tracker = {}\n",
    "\n",
    "train_loss_history = []\n",
    "train_acc_history = []\n",
    "val_loss_history = []\n",
    "val_acc_history = []\n",
    "y_pred = []\n",
    "y_true = []\n",
    "best_valid_loss = float('inf')\n",
    "\n",
    "# Model training loop\n",
    "for epoch in range(epochs):\n",
    "    print(f\"Epoch: {epoch+1}/{epochs}\")\n",
    "    correct, loss, rate_tracker = train(data_loader=train_loader, model=model, criterion=criterion, optimizer=optimizer, scheduler=scheduler)\n",
    "    accuracy = correct / len(train_loader.dataset)\n",
    "    loss = loss / len(train_loader)\n",
    "    train_loss = loss\n",
    "    train_acc_history.append(accuracy)\n",
    "    train_loss_history.append(loss)\n",
    "    for key in rate_tracker.keys():\n",
    "        lr_tracker[(epoch,key)] = rate_tracker[key]\n",
    "    \n",
    "    # validation phase\n",
    "    correct, loss, y_true, y_pred = evaluate(data_loader = test_loader, model=model, criterion=criterion)\n",
    "    validation_accuracy = correct / len(test_loader.dataset)\n",
    "    validation_loss = loss / len(test_loader)\n",
    "    print(f\"Train Accuracy: {accuracy*100:.2f}%, Train Loss: {train_loss}\")\n",
    "    print(f\"Test Accuracy: {validation_accuracy*100:.2f}%, Test Loss: {validation_loss}\")\n",
    "    if validation_loss < best_valid_loss:\n",
    "        best_valid_loss = validation_loss\n",
    "        torch.save(model.state_dict(), 'ahzam_net.pt')\n",
    "    val_acc_history.append(validation_accuracy)\n",
    "    val_loss_history.append(validation_loss)"
   ]
  },
  {
   "cell_type": "markdown",
   "metadata": {},
   "source": [
    "### Plotting accuracy and loss against epochs"
   ]
  },
  {
   "cell_type": "code",
   "execution_count": 10,
   "metadata": {},
   "outputs": [
    {
     "data": {
      "image/png": "[encoded data removed]",
      "text/plain": [
       "<Figure size 1600x900 with 1 Axes>"
      ]
     },
     "metadata": {},
     "output_type": "display_data"
    }
   ],
   "source": [
    "fig, ax = plt.subplots(figsize=(16,9))\n",
    "\n",
    "plt.title('Accuracy and Loss Plots for our Model')\n",
    "plt.plot(train_loss_history, label='Train Loss')\n",
    "plt.plot(val_loss_history, label='Test Loss')\n",
    "plt.plot(train_acc_history, label='Train Acc')  \n",
    "plt.plot(val_acc_history, label='Test Acc')\n",
    "plt.legend()\n",
    "plt.xlabel(\"Epochs\")\n",
    "yticks = np.linspace(0, 2.0, num=40)\n",
    "ax.set_yticks(yticks)\n",
    "plt.show()"
   ]
  },
  {
   "cell_type": "markdown",
   "metadata": {},
   "source": [
    "### Plotting learning rate from the cyclic scheduler over batches of data"
   ]
  },
  {
   "cell_type": "code",
   "execution_count": 11,
   "metadata": {
    "colab": {
     "base_uri": "https://localhost:8080/",
     "height": 795
    },
    "id": "RhtTBj8sW8W6",
    "outputId": "431ebfc4-2220-4c08-fe98-0fd0261bd824"
   },
   "outputs": [
    {
     "data": {
      "image/png": "[encoded data removed]",
      "text/plain": [
       "<Figure size 1600x900 with 1 Axes>"
      ]
     },
     "metadata": {},
     "output_type": "display_data"
    }
   ],
   "source": [
    "fig, ax = plt.subplots(figsize=(16,9))\n",
    "plt.title('Dynamic Learning Rate behaviour during the training of our Model')\n",
    "plt.plot(range(len(lr_tracker)), lr_tracker.values())\n",
    "plt.xlabel('Batches')\n",
    "plt.ylabel('Learning rate')\n",
    "plt.show()"
   ]
  },
  {
   "cell_type": "markdown",
   "metadata": {},
   "source": [
    "### Plotting confusion matrix for outputs"
   ]
  },
  {
   "cell_type": "code",
   "execution_count": 13,
   "metadata": {},
   "outputs": [
    {
     "data": {
      "text/plain": [
       "(array([0, 1, 2, 3, 4, 5, 6, 7, 8, 9]),\n",
       " [Text(0, 0, 'airplane'),\n",
       "  Text(1, 0, 'automobile'),\n",
       "  Text(2, 0, 'bird'),\n",
       "  Text(3, 0, 'cat'),\n",
       "  Text(4, 0, 'deer'),\n",
       "  Text(5, 0, 'dog'),\n",
       "  Text(6, 0, 'frog'),\n",
       "  Text(7, 0, 'horse'),\n",
       "  Text(8, 0, 'ship'),\n",
       "  Text(9, 0, 'truck')])"
      ]
     },
     "execution_count": 13,
     "metadata": {},
     "output_type": "execute_result"
    },
    {
     "data": {
      "image/png": "[encoded data removed]",
      "text/plain": [
       "<Figure size 1000x1000 with 2 Axes>"
      ]
     },
     "metadata": {},
     "output_type": "display_data"
    }
   ],
   "source": [
    "# Calculate the confusion matrix\n",
    "cm = confusion_matrix(y_true, y_pred)\n",
    "fig = plt.figure(figsize = (10, 10));\n",
    "ax = fig.add_subplot(1, 1, 1);\n",
    "ax.set_title('Confusion Matrix for our Model')\n",
    "cm = ConfusionMatrixDisplay(cm, display_labels = classes);\n",
    "cm.plot(values_format = 'd', cmap = 'Greens', ax = ax)\n",
    "plt.xticks(rotation = 20)"
   ]
  },
  {
   "cell_type": "code",
   "execution_count": 14,
   "metadata": {
    "colab": {
     "base_uri": "https://localhost:8080/"
    },
    "id": "Kf8sdN3HW8W6",
    "outputId": "d2052065-c614-480e-f439-86c099170b8d"
   },
   "outputs": [
    {
     "data": {
      "text/plain": [
       "<All keys matched successfully>"
      ]
     },
     "execution_count": 14,
     "metadata": {},
     "output_type": "execute_result"
    }
   ],
   "source": [
    "device = 'cuda' if torch.cuda.is_available() else 'cpu'\n",
    "\n",
    "model_state_dict = torch.load('ahzam_net.pt')\n",
    "\n",
    "model.load_state_dict(model_state_dict)"
   ]
  },
  {
   "cell_type": "code",
   "execution_count": 15,
   "metadata": {
    "colab": {
     "base_uri": "https://localhost:8080/"
    },
    "id": "ihTYaHMSW8W6",
    "outputId": "d8fe4f39-d3c8-4bf0-e090-3eff2bfbc987"
   },
   "outputs": [
    {
     "data": {
      "text/plain": [
       "ResNet(\n",
       "  (conv1): Conv2d(3, 42, kernel_size=(3, 3), stride=(1, 1), padding=(1, 1), bias=False)\n",
       "  (bn1): BatchNorm2d(42, eps=1e-05, momentum=0.1, affine=True, track_running_stats=True)\n",
       "  (layer1): Sequential(\n",
       "    (0): BasicBlock(\n",
       "      (conv1): Conv2d(42, 42, kernel_size=(3, 3), stride=(1, 1), padding=(1, 1), bias=False)\n",
       "      (bn1): BatchNorm2d(42, eps=1e-05, momentum=0.1, affine=True, track_running_stats=True)\n",
       "      (dropout): Dropout(p=0.15, inplace=False)\n",
       "      (conv2): Conv2d(42, 42, kernel_size=(3, 3), stride=(1, 1), padding=(1, 1), bias=False)\n",
       "      (bn2): BatchNorm2d(42, eps=1e-05, momentum=0.1, affine=True, track_running_stats=True)\n",
       "      (shortcut): Sequential()\n",
       "    )\n",
       "    (1): BasicBlock(\n",
       "      (conv1): Conv2d(42, 42, kernel_size=(3, 3), stride=(1, 1), padding=(1, 1), bias=False)\n",
       "      (bn1): BatchNorm2d(42, eps=1e-05, momentum=0.1, affine=True, track_running_stats=True)\n",
       "      (dropout): Dropout(p=0.15, inplace=False)\n",
       "      (conv2): Conv2d(42, 42, kernel_size=(3, 3), stride=(1, 1), padding=(1, 1), bias=False)\n",
       "      (bn2): BatchNorm2d(42, eps=1e-05, momentum=0.1, affine=True, track_running_stats=True)\n",
       "      (shortcut): Sequential()\n",
       "    )\n",
       "  )\n",
       "  (layer2): Sequential(\n",
       "    (0): BasicBlock(\n",
       "      (conv1): Conv2d(42, 84, kernel_size=(3, 3), stride=(2, 2), padding=(1, 1), bias=False)\n",
       "      (bn1): BatchNorm2d(84, eps=1e-05, momentum=0.1, affine=True, track_running_stats=True)\n",
       "      (dropout): Dropout(p=0.15, inplace=False)\n",
       "      (conv2): Conv2d(84, 84, kernel_size=(3, 3), stride=(1, 1), padding=(1, 1), bias=False)\n",
       "      (bn2): BatchNorm2d(84, eps=1e-05, momentum=0.1, affine=True, track_running_stats=True)\n",
       "      (shortcut): Sequential(\n",
       "        (0): Conv2d(42, 84, kernel_size=(1, 1), stride=(2, 2), bias=False)\n",
       "        (1): BatchNorm2d(84, eps=1e-05, momentum=0.1, affine=True, track_running_stats=True)\n",
       "      )\n",
       "    )\n",
       "    (1): BasicBlock(\n",
       "      (conv1): Conv2d(84, 84, kernel_size=(3, 3), stride=(1, 1), padding=(1, 1), bias=False)\n",
       "      (bn1): BatchNorm2d(84, eps=1e-05, momentum=0.1, affine=True, track_running_stats=True)\n",
       "      (dropout): Dropout(p=0.15, inplace=False)\n",
       "      (conv2): Conv2d(84, 84, kernel_size=(3, 3), stride=(1, 1), padding=(1, 1), bias=False)\n",
       "      (bn2): BatchNorm2d(84, eps=1e-05, momentum=0.1, affine=True, track_running_stats=True)\n",
       "      (shortcut): Sequential()\n",
       "    )\n",
       "  )\n",
       "  (layer3): Sequential(\n",
       "    (0): BasicBlock(\n",
       "      (conv1): Conv2d(84, 168, kernel_size=(3, 3), stride=(2, 2), padding=(1, 1), bias=False)\n",
       "      (bn1): BatchNorm2d(168, eps=1e-05, momentum=0.1, affine=True, track_running_stats=True)\n",
       "      (dropout): Dropout(p=0.15, inplace=False)\n",
       "      (conv2): Conv2d(168, 168, kernel_size=(3, 3), stride=(1, 1), padding=(1, 1), bias=False)\n",
       "      (bn2): BatchNorm2d(168, eps=1e-05, momentum=0.1, affine=True, track_running_stats=True)\n",
       "      (shortcut): Sequential(\n",
       "        (0): Conv2d(84, 168, kernel_size=(1, 1), stride=(2, 2), bias=False)\n",
       "        (1): BatchNorm2d(168, eps=1e-05, momentum=0.1, affine=True, track_running_stats=True)\n",
       "      )\n",
       "    )\n",
       "    (1): BasicBlock(\n",
       "      (conv1): Conv2d(168, 168, kernel_size=(3, 3), stride=(1, 1), padding=(1, 1), bias=False)\n",
       "      (bn1): BatchNorm2d(168, eps=1e-05, momentum=0.1, affine=True, track_running_stats=True)\n",
       "      (dropout): Dropout(p=0.15, inplace=False)\n",
       "      (conv2): Conv2d(168, 168, kernel_size=(3, 3), stride=(1, 1), padding=(1, 1), bias=False)\n",
       "      (bn2): BatchNorm2d(168, eps=1e-05, momentum=0.1, affine=True, track_running_stats=True)\n",
       "      (shortcut): Sequential()\n",
       "    )\n",
       "  )\n",
       "  (layer4): Sequential(\n",
       "    (0): BasicBlock(\n",
       "      (conv1): Conv2d(168, 336, kernel_size=(3, 3), stride=(2, 2), padding=(1, 1), bias=False)\n",
       "      (bn1): BatchNorm2d(336, eps=1e-05, momentum=0.1, affine=True, track_running_stats=True)\n",
       "      (dropout): Dropout(p=0.15, inplace=False)\n",
       "      (conv2): Conv2d(336, 336, kernel_size=(3, 3), stride=(1, 1), padding=(1, 1), bias=False)\n",
       "      (bn2): BatchNorm2d(336, eps=1e-05, momentum=0.1, affine=True, track_running_stats=True)\n",
       "      (shortcut): Sequential(\n",
       "        (0): Conv2d(168, 336, kernel_size=(1, 1), stride=(2, 2), bias=False)\n",
       "        (1): BatchNorm2d(336, eps=1e-05, momentum=0.1, affine=True, track_running_stats=True)\n",
       "      )\n",
       "    )\n",
       "    (1): BasicBlock(\n",
       "      (conv1): Conv2d(336, 336, kernel_size=(3, 3), stride=(1, 1), padding=(1, 1), bias=False)\n",
       "      (bn1): BatchNorm2d(336, eps=1e-05, momentum=0.1, affine=True, track_running_stats=True)\n",
       "      (dropout): Dropout(p=0.15, inplace=False)\n",
       "      (conv2): Conv2d(336, 336, kernel_size=(3, 3), stride=(1, 1), padding=(1, 1), bias=False)\n",
       "      (bn2): BatchNorm2d(336, eps=1e-05, momentum=0.1, affine=True, track_running_stats=True)\n",
       "      (shortcut): Sequential()\n",
       "    )\n",
       "  )\n",
       "  (linear): Linear(in_features=336, out_features=10, bias=True)\n",
       ")"
      ]
     },
     "execution_count": 15,
     "metadata": {},
     "output_type": "execute_result"
    }
   ],
   "source": [
    "# Prepare model for inference\n",
    "model.eval()\n",
    "\n",
    "model.to(device)"
   ]
  },
  {
   "cell_type": "code",
   "execution_count": 16,
   "metadata": {
    "colab": {
     "base_uri": "https://localhost:8080/"
    },
    "id": "E4YJjR1ZW8W6",
    "outputId": "2e6793d1-79a7-4d60-c32f-d30945c3340b"
   },
   "outputs": [
    {
     "name": "stderr",
     "output_type": "stream",
     "text": [
      "/home/sa8237/.local/lib/python3.11/site-packages/torch/utils/data/dataloader.py:558: UserWarning: This DataLoader will create 6 worker processes in total. Our suggested max number of worker in current system is 4, which is smaller than what this DataLoader is going to create. Please be aware that excessive worker creation might get DataLoader running slow or even freeze, lower the worker number to avoid potential slowness/freeze if necessary.\n",
      "  warnings.warn(_create_warning_msg(\n"
     ]
    },
    {
     "name": "stdout",
     "output_type": "stream",
     "text": [
      "Accuracy of the network on the validation set: 92.56%\n"
     ]
    }
   ],
   "source": [
    "correct = 0\n",
    "total = 0\n",
    "with torch.no_grad():  # No need to compute gradients during evaluation\n",
    "    for inputs, targets in test_loader:\n",
    "        inputs, targets = inputs.to(device), targets.to(device)\n",
    "        outputs = model(inputs)\n",
    "        _, predicted = torch.max(outputs.data, 1)\n",
    "        total += targets.size(0)\n",
    "        correct += (predicted == targets).sum().item()\n",
    "\n",
    "print(f'Accuracy of the network on the validation set: {100 * correct / total}%')"
   ]
  },
  {
   "cell_type": "markdown",
   "metadata": {},
   "source": [
    "#### Final accuracy of the model on CIFAR 10 data: 92.56%"
   ]
  },
  {
   "cell_type": "markdown",
   "metadata": {},
   "source": [
    "## Making Inference on unseen data"
   ]
  },
  {
   "cell_type": "code",
   "execution_count": 17,
   "metadata": {
    "colab": {
     "base_uri": "https://localhost:8080/"
    },
    "id": "vdoeljLPW8W6",
    "outputId": "a71deaf5-acd8-473f-cd3e-b062067b60f1"
   },
   "outputs": [
    {
     "name": "stdout",
     "output_type": "stream",
     "text": [
      "<class 'dict'>\n"
     ]
    }
   ],
   "source": [
    "import pickle\n",
    "\n",
    "# Load the pickled test data\n",
    "with open('cifar_test_nolabels.pkl', 'rb') as file:\n",
    "    test_images = pickle.load(file)\n",
    "\n",
    "# Checking the type and shape of the loaded data\n",
    "print(type(test_images))"
   ]
  },
  {
   "cell_type": "code",
   "execution_count": 18,
   "metadata": {
    "colab": {
     "base_uri": "https://localhost:8080/"
    },
    "id": "dbKb1cJmW8W7",
    "outputId": "5b7be29b-bb92-4125-9bb7-a28dc61e5337"
   },
   "outputs": [
    {
     "name": "stdout",
     "output_type": "stream",
     "text": [
      "Key: b'data', Type: <class 'numpy.ndarray'>, Shape: (10000, 3072)\n",
      "Key: b'ids', Type: <class 'numpy.ndarray'>, Shape: (10000,)\n"
     ]
    }
   ],
   "source": [
    "# Retrieve and print a couple of keys\n",
    "keys = list(test_images.keys())\n",
    "sample_key_values = {key: test_images[key] for key in keys}\n",
    "\n",
    "# Check the type and shape of the image data for these keys\n",
    "for key, value in sample_key_values.items():\n",
    "    print(f\"Key: {key}, Type: {type(value)}, Shape: {value.shape if hasattr(value, 'shape') else 'N/A'}\")"
   ]
  },
  {
   "cell_type": "code",
   "execution_count": 19,
   "metadata": {
    "id": "SHEq9syhW8W7"
   },
   "outputs": [],
   "source": [
    "import torch\n",
    "from torchvision import transforms\n",
    "from PIL import Image\n",
    "import csv\n",
    "# import pandas as pd\n",
    "\n",
    "mean = [0.485, 0.456, 0.406]\n",
    "std = [0.229, 0.224, 0.225]\n",
    "\n",
    "transform = transforms.Compose([\n",
    "    transforms.ToTensor(),\n",
    "    transforms.Normalize(mean, std)\n",
    "])\n",
    "\n",
    "\n",
    "\n",
    "# Process all images for predictions\n",
    "predictions = []\n",
    "for i in range(len(test_images[b'data'])):\n",
    "    # Reshape and transpose image data to (32, 32, 3)\n",
    "    image_data = test_images[b'data'][i].reshape(3,32,32).transpose([1, 2, 0])\n",
    "    image_data = transform(image_data).unsqueeze(0)  # Add batch dimension\n",
    "\n",
    "    image_data = image_data.to(device)\n",
    "    # Convert to PIL Image\n",
    "    # Make prediction\n",
    "    with torch.no_grad():\n",
    "        output = model(image_data)\n",
    "        _, predicted = torch.max(output, 1)\n",
    "        predicted_label = predicted.item()\n",
    "        predictions.append((test_images[b'ids'][i], predicted_label))\n",
    "\n"
   ]
  },
  {
   "cell_type": "code",
   "execution_count": 20,
   "metadata": {
    "colab": {
     "base_uri": "https://localhost:8080/"
    },
    "id": "R88X_yIXW8W7",
    "outputId": "d7d6fe06-106d-45a1-bbc4-d9b7e291ab44"
   },
   "outputs": [
    {
     "name": "stdout",
     "output_type": "stream",
     "text": [
      "Number of unique y values: 10\n"
     ]
    }
   ],
   "source": [
    "y_values = [y for _, y in predictions]\n",
    "\n",
    "# Converting the list of y values to a set to remove duplicates\n",
    "unique_y_values = set(y_values)\n",
    "\n",
    "# Counting the number of unique y values\n",
    "num_unique_y_values = len(unique_y_values)\n",
    "\n",
    "print(\"Number of unique y values:\", num_unique_y_values)"
   ]
  },
  {
   "cell_type": "code",
   "execution_count": 21,
   "metadata": {
    "colab": {
     "base_uri": "https://localhost:8080/"
    },
    "id": "7DThsrIDW8W7",
    "outputId": "c159dced-f081-4f25-cb72-ea44e85c8730"
   },
   "outputs": [
    {
     "name": "stdout",
     "output_type": "stream",
     "text": [
      "Frequency of 8: 1044\n",
      "Frequency of 0: 960\n",
      "Frequency of 3: 1146\n",
      "Frequency of 4: 950\n",
      "Frequency of 1: 967\n",
      "Frequency of 9: 1094\n",
      "Frequency of 2: 934\n",
      "Frequency of 6: 864\n",
      "Frequency of 7: 1031\n",
      "Frequency of 5: 1010\n"
     ]
    }
   ],
   "source": [
    "frequency = {}\n",
    "\n",
    "# Looping through the list to count each y value\n",
    "for _, y in predictions:\n",
    "    if y in frequency:\n",
    "        frequency[y] += 1\n",
    "    else:\n",
    "        frequency[y] = 1\n",
    "\n",
    "# Printing the frequency of each y value\n",
    "for y_val, count in frequency.items():\n",
    "    print(f\"Frequency of {y_val}: {count}\")"
   ]
  },
  {
   "cell_type": "code",
   "execution_count": null,
   "metadata": {
    "colab": {
     "base_uri": "https://localhost:8080/",
     "height": 35
    },
    "id": "19glXsZkW8W7",
    "outputId": "5520be3c-34d1-467a-dfcd-a2cb5859c29d"
   },
   "outputs": [],
   "source": [
    "import csv\n",
    "csv_file_path = 'predictions_ResNet18.csv'\n",
    "\n",
    "# Write the predictions into the CSV file\n",
    "with open(csv_file_path, 'w', newline='') as csv_file:\n",
    "    writer = csv.writer(csv_file)\n",
    "    writer.writerow(['ID', 'Labels'])  # Write the header\n",
    "    for prediction in predictions:\n",
    "        writer.writerow(prediction)\n",
    "# Return the path to the saved CSV file\n",
    "csv_file_path"
   ]
  },
  {
   "cell_type": "code",
   "execution_count": null,
   "metadata": {},
   "outputs": [],
   "source": []
  }
 ],
 "metadata": {
  "accelerator": "GPU",
  "colab": {
   "gpuType": "T4",
   "provenance": []
  },
  "kernelspec": {
   "display_name": "Python 3 (ipykernel)",
   "language": "python",
   "name": "python3"
  },
  "language_info": {
   "codemirror_mode": {
    "name": "ipython",
    "version": 3
   },
   "file_extension": ".py",
   "mimetype": "text/x-python",
   "name": "python",
   "nbconvert_exporter": "python",
   "pygments_lexer": "ipython3",
   "version": "3.12.3"
  }
 },
 "nbformat": 4,
 "nbformat_minor": 4
}
